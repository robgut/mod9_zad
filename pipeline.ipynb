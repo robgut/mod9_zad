{
 "cells": [
  {
   "cell_type": "code",
   "execution_count": null,
   "metadata": {},
   "outputs": [],
   "source": [
    "import boto3\n",
    "from dotenv import load_dotenv\n",
    "import os.path\n",
    "import pandas as pd\n",
    "import matplotlib.pyplot as plt\n",
    "import seaborn as sns\n",
    "from pycaret.regression import setup, predict_model, compare_models, load_model, create_model, save_model, plot_model, finalize_model # type: ignore"
   ]
  },
  {
   "cell_type": "code",
   "execution_count": null,
   "metadata": {},
   "outputs": [],
   "source": [
    "MODELS_PATH = 'halfmarathon/models/'\n",
    "DATA_PATH = 'halfmarathon/data/'\n",
    "BUCKET_NAME = \"nowy\"\n",
    "\n",
    "load_dotenv()"
   ]
  },
  {
   "cell_type": "code",
   "execution_count": null,
   "metadata": {},
   "outputs": [],
   "source": [
    "def convert_time_to_seconds(time):\n",
    "    if pd.isnull(time) or time in ['DNS', 'DNF']:\n",
    "        return None\n",
    "    time = time.split(':')\n",
    "    return int(time[0]) * 3600 + int(time[1]) * 60 + int(time[2])\n",
    "\n",
    "def convert_seconds_to_time(seconds):\n",
    "    seconds = int(seconds)\n",
    "    min, sec = divmod(seconds, 60)\n",
    "    hrs, min = divmod(min, 60)\n",
    "\n",
    "    return f'{hrs:02d}:{min:02d}:{sec:02d}'\n",
    "\n",
    "def download_models():\n",
    "    models = []\n",
    "\n",
    "    try:\n",
    "        model_list = get_file_list(prefix=MODELS_PATH)\n",
    "                \n",
    "        for item in model_list:\n",
    "            model = item['Key']\n",
    "            if str(model).endswith('.pkl'):\n",
    "                models.append(model)\n",
    "    except:\n",
    "        return None\n",
    "\n",
    "    return models\n",
    "\n",
    "def get_digital_ocean_client():\n",
    "    return boto3.client('s3',)\n",
    "\n",
    "def get_file_list(prefix):\n",
    "    s3 = get_digital_ocean_client()\n",
    "    response = s3.list_objects_v2(Bucket = BUCKET_NAME, Prefix = prefix)\n",
    "    return response['Contents']\n",
    "\n",
    "def download_file(file_full_name):\n",
    "    s3 = get_digital_ocean_client()\n",
    "    base_name = os.path.basename(file_full_name)\n",
    "    s3.download_file(BUCKET_NAME, file_full_name, base_name)\n",
    "    return base_name\n",
    "\n",
    "def upload_file(file_name, prefix):\n",
    "    s3 = get_digital_ocean_client()\n",
    "    s3.upload_file(file_name, BUCKET_NAME, prefix + file_name)"
   ]
  },
  {
   "cell_type": "markdown",
   "metadata": {},
   "source": [
    "### Pobierz listę plików csv"
   ]
  },
  {
   "cell_type": "code",
   "execution_count": null,
   "metadata": {},
   "outputs": [],
   "source": [
    "csv_list = get_file_list(DATA_PATH)"
   ]
  },
  {
   "cell_type": "markdown",
   "metadata": {},
   "source": [
    "### Wczytaj dane do Data Frame"
   ]
  },
  {
   "cell_type": "code",
   "execution_count": null,
   "metadata": {},
   "outputs": [],
   "source": [
    "csv_names = []\n",
    "\n",
    "for item in csv_list:\n",
    "    f = item['Key']\n",
    "    if str(f).endswith('.csv'):\n",
    "        csv_names.append(f)\n",
    "\n",
    "file1 = download_file(csv_names[0]) \n",
    "file2 = download_file(csv_names[1]) \n",
    "\n",
    "m2023_df = pd.read_csv(file1, sep=';')    \n",
    "m2024_df = pd.read_csv(file2, sep=';')"
   ]
  },
  {
   "cell_type": "code",
   "execution_count": null,
   "metadata": {},
   "outputs": [],
   "source": [
    "m2023_df['Czas'] = m2023_df['Czas'].apply(convert_time_to_seconds)\n",
    "m2023_df['5 km Czas'] = m2023_df['5 km Czas'].apply(convert_time_to_seconds)\n",
    "\n",
    "m2024_df['Czas'] = m2024_df['Czas'].apply(convert_time_to_seconds)\n",
    "m2024_df['5 km Czas'] = m2024_df['5 km Czas'].apply(convert_time_to_seconds)\n",
    "\n",
    "m2023_df = m2023_df[['Miejsce', 'Nazwisko','Płeć', 'Kategoria wiekowa', '5 km Czas', 'Czas']]\n",
    "m2024_df = m2024_df[['Miejsce', 'Nazwisko','Płeć', 'Kategoria wiekowa', '5 km Czas', 'Czas']]"
   ]
  },
  {
   "cell_type": "code",
   "execution_count": null,
   "metadata": {},
   "outputs": [],
   "source": [
    "m2023_df.isnull().sum()\n",
    "m2023_df.sort_values(by='Miejsce', inplace=True)\n",
    "m2023_df['5 km Czas'].fillna(method='bfill', inplace=True)\n",
    "\n",
    "m2023_df.dropna(inplace=True)\n",
    "\n",
    "# m2023_df.describe()"
   ]
  },
  {
   "cell_type": "code",
   "execution_count": null,
   "metadata": {},
   "outputs": [],
   "source": [
    "m2024_df.isnull().sum()\n",
    "m2024_df.sort_values(by='Miejsce', inplace=True)\n",
    "m2024_df['5 km Czas'].fillna(method='bfill', inplace=True)\n",
    "\n",
    "m2024_df.dropna(inplace=True)\n",
    "\n",
    "\n",
    "# m2024_df[(m2024_df['5 km Czas'].isnull()) & (m2024_df['Czas'].notnull())]"
   ]
  },
  {
   "cell_type": "code",
   "execution_count": null,
   "metadata": {},
   "outputs": [],
   "source": [
    "fig = plt.figure(figsize=(10,5))\n",
    "plt.title(\"Półmaraton 2023\")\n",
    "sns.scatterplot(data=m2023_df, x=\"5 km Czas\", y='Czas');"
   ]
  },
  {
   "cell_type": "code",
   "execution_count": null,
   "metadata": {},
   "outputs": [],
   "source": [
    "# # Odrzuć odstające dane\n",
    "\n",
    "# Q1 = m2023_df[\"5 km Czas\"].quantile(0.25)\n",
    "# Q3 = m2023_df[\"5 km Czas\"].quantile(0.75)\n",
    "# IQR = Q3 - Q1\n",
    "\n",
    "# lower_bound = Q1 - 1.5 * IQR\n",
    "# upper_bound = Q3 + 1.5 * IQR\n",
    "\n",
    "# m2023_df = m2023_df[~((m2023_df[\"5 km Czas\"] < lower_bound) | (m2023_df[\"5 km Czas\"] > upper_bound))]\n"
   ]
  },
  {
   "cell_type": "code",
   "execution_count": null,
   "metadata": {},
   "outputs": [],
   "source": [
    "fig = plt.figure(figsize=(10,5))\n",
    "plt.title(\"Półmaraton 2024\")\n",
    "sns.scatterplot(data=m2024_df, x=\"5 km Czas\", y='Czas');"
   ]
  },
  {
   "cell_type": "markdown",
   "metadata": {},
   "source": [
    "### Uratujemy rekord gdzie '5 km Czas' == 0"
   ]
  },
  {
   "cell_type": "code",
   "execution_count": null,
   "metadata": {},
   "outputs": [],
   "source": [
    "idx = m2024_df[m2024_df['5 km Czas'] == 0].index[0]\n",
    "m2024_df.loc[idx]\n",
    "m2024_df.loc[idx, '5 km Czas'] = None\n",
    "m2024_df['5 km Czas'].fillna(method='bfill', inplace=True)\n",
    "m2024_df.loc[idx]"
   ]
  },
  {
   "cell_type": "markdown",
   "metadata": {},
   "source": [
    "### Połącz dane obu półmaratonów"
   ]
  },
  {
   "cell_type": "code",
   "execution_count": null,
   "metadata": {},
   "outputs": [],
   "source": [
    "marathon_df = pd.concat([m2023_df, m2024_df], ignore_index=True)\n",
    "marathon_df = marathon_df[['Płeć', 'Kategoria wiekowa', '5 km Czas', 'Czas']]\n",
    "marathon_df.columns = ['sex', 'age_category', '5time', 'time']\n",
    "marathon_df.isna().any()"
   ]
  },
  {
   "cell_type": "code",
   "execution_count": null,
   "metadata": {},
   "outputs": [],
   "source": [
    "fig = plt.figure(figsize=(10,5))\n",
    "sns.scatterplot(data=marathon_df, x=\"5time\", y='time');"
   ]
  },
  {
   "cell_type": "code",
   "execution_count": null,
   "metadata": {},
   "outputs": [],
   "source": [
    "# Odrzuć odstające dane\n",
    "\n",
    "Q1 = marathon_df[\"5time\"].quantile(0.25)\n",
    "Q3 = marathon_df[\"5time\"].quantile(0.75)\n",
    "IQR = Q3 - Q1\n",
    "\n",
    "lower_bound = Q1 - 1.5 * IQR\n",
    "upper_bound = Q3 + 1.5 * IQR\n",
    "\n",
    "marathon_df = marathon_df[~((marathon_df[\"5time\"] < lower_bound) | (marathon_df[\"5time\"] > upper_bound))]"
   ]
  },
  {
   "cell_type": "code",
   "execution_count": null,
   "metadata": {},
   "outputs": [],
   "source": [
    "# Zaczynamy...\n",
    "\n",
    "exp = setup(data=marathon_df, target='time', session_id=123, index=False)"
   ]
  },
  {
   "cell_type": "code",
   "execution_count": null,
   "metadata": {},
   "outputs": [],
   "source": [
    "model_mapping = \t{\n",
    "\t\t'GradientBoostingRegressor':'gbr', \n",
    "\t\t'CatBoostRegressor' : 'catboost', \n",
    "\t\t'LGBMRegressor' : 'lightgbm', \n",
    "\t\t'ElasticNet' : 'en', \n",
    "\t\t'LassoLars' : 'llar', \n",
    "\t\t'OrthogonalMatchingPursuit' : 'omp', \n",
    "\t\t'BayesianRidge' : 'br', \n",
    "\t\t'Lasso': 'lasso', \n",
    "\t\t'LinearRegression' : 'lr', \n",
    "\t\t'Ridge' : 'ridge',\n",
    "        'LassoLars' : 'llar',\n",
    "\t}"
   ]
  },
  {
   "cell_type": "code",
   "execution_count": null,
   "metadata": {},
   "outputs": [],
   "source": [
    "# Pierwsze 3 modele\n",
    "N_SELECT = 3\n",
    "best_models = exp.compare_models(n_select=N_SELECT)"
   ]
  },
  {
   "cell_type": "code",
   "execution_count": null,
   "metadata": {},
   "outputs": [],
   "source": [
    "model_names = [model.__class__.__name__ for model in best_models]\n",
    "print(model_names)"
   ]
  },
  {
   "cell_type": "code",
   "execution_count": null,
   "metadata": {},
   "outputs": [],
   "source": [
    "# Mapuj wybrane modele\n",
    "model_map_df = pd.DataFrame(model_names, columns=['name'])\n",
    "model_map_df['abbrev'] = model_map_df['name'].map(model_mapping)\n",
    "model_map_df['model'] = None\n",
    "print(model_map_df)"
   ]
  },
  {
   "cell_type": "code",
   "execution_count": null,
   "metadata": {},
   "outputs": [],
   "source": [
    "# Trzy pierwsze modele są zapisywane lokalnie i w Digital Ocean Spaces\n",
    "# Indeksy w nazwach modeli wskazują, który jest 1, 2 a który trzeci\n",
    "\n",
    "for idx in range(N_SELECT):\n",
    "    print(model_map_df['abbrev'][idx])\n",
    "    current_model = create_model(model_map_df['abbrev'][idx], verbose=False)\n",
    "    f_model = finalize_model(current_model)\n",
    "    save_model(f_model, f\"{model_map_df['abbrev'][idx]}_{idx}\")\n",
    "    upload_file(f\"{model_map_df['abbrev'][idx]}_{idx}.pkl\", MODELS_PATH)\n",
    "    # plot_model(f_model, 'feature')"
   ]
  },
  {
   "cell_type": "code",
   "execution_count": null,
   "metadata": {},
   "outputs": [],
   "source": [
    "# Dane testowe\n",
    "predict_run = pd.DataFrame([\n",
    "    {\n",
    "        'sex' : 'M',\n",
    "        'age_category' : 'M30',\n",
    "        '5time' : 1095\n",
    "    }\n",
    "])"
   ]
  },
  {
   "cell_type": "code",
   "execution_count": null,
   "metadata": {},
   "outputs": [],
   "source": [
    "loaded_model = load_model('model_lr_1')\n",
    "plot_model(loaded_model, 'feature')\n",
    "predict = predict_model(loaded_model, data = predict_run)\n",
    "print(f\"{convert_seconds_to_time(predict['prediction_label'])}, {int(predict['prediction_label'])}s\")"
   ]
  },
  {
   "cell_type": "code",
   "execution_count": null,
   "metadata": {},
   "outputs": [],
   "source": [
    "predict"
   ]
  },
  {
   "cell_type": "code",
   "execution_count": null,
   "metadata": {},
   "outputs": [],
   "source": [
    "marathon_df[marathon_df['5time'] == 1095].head()"
   ]
  },
  {
   "cell_type": "code",
   "execution_count": null,
   "metadata": {},
   "outputs": [],
   "source": [
    "convert_seconds_to_time(4735)"
   ]
  }
 ],
 "metadata": {
  "kernelspec": {
   "display_name": "zadanie_mod9",
   "language": "python",
   "name": "python3"
  },
  "language_info": {
   "codemirror_mode": {
    "name": "ipython",
    "version": 3
   },
   "file_extension": ".py",
   "mimetype": "text/x-python",
   "name": "python",
   "nbconvert_exporter": "python",
   "pygments_lexer": "ipython3",
   "version": "3.9.10"
  }
 },
 "nbformat": 4,
 "nbformat_minor": 2
}
